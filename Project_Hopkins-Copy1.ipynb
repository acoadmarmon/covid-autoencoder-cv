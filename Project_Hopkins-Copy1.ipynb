{
 "cells": [
  {
   "cell_type": "markdown",
   "metadata": {},
   "source": [
    "Source:\n",
    "    https://www.datanovia.com/en/lessons/assessing-clustering-tendency/\n",
    "    https://github.com/lachhebo/pyclustertend/blob/master/pyclustertend/hopkins.py\n",
    "    https://matevzkunaver.wordpress.com/2017/06/20/hopkins-test-for-cluster-tendency/    "
   ]
  },
  {
   "cell_type": "markdown",
   "metadata": {},
   "source": [
    "## Hopkin's Stats before clustering"
   ]
  },
  {
   "cell_type": "code",
   "execution_count": 94,
   "metadata": {},
   "outputs": [
    {
     "name": "stdout",
     "output_type": "stream",
     "text": [
      "Requirement already satisfied: pyclustertend in /opt/anaconda3/lib/python3.8/site-packages (1.4.9)\r\n"
     ]
    }
   ],
   "source": [
    "import numpy as np\n",
    "from sklearn.neighbors import NearestNeighbors\n",
    "from sklearn import datasets\n",
    "from sklearn.preprocessing import scale\n",
    "import sys\n",
    "!{sys.executable} -m pip install pyclustertend\n",
    "\n",
    "from pyclustertend import hopkins"
   ]
  },
  {
   "cell_type": "code",
   "execution_count": 114,
   "metadata": {},
   "outputs": [],
   "source": [
    "\n",
    "def hopkin(data):\n",
    "    ndist = NearestNeighbors(n_neighbors=1, algorithm='ball_tree').fit(data)\n",
    "    samp_count = (int)(0.1 * data.shape[0])\n",
    "    samp_ind = np.random.choice(data.shape[0], samp_count, replace=False)\n",
    "    \n",
    "    sdata = data[samp_ind, :]\n",
    "    \n",
    "    sum_unf = 0\n",
    "    sum_real = 0\n",
    "    \n",
    "    for point in sdata:\n",
    "        unif_dist,_ = ndist.kneighbors(np.random.uniform(np.amin(data, axis = 0), np.amax(data, axis = 0), data.shape[1]).reshape(1, -1), 2, return_distance = True)\n",
    "        sum_unf = sum_unf + unif_dist[0][1]\n",
    "        real_dist,_ = ndist.kneighbors(point.reshape(1,-1), 2, return_distance = True)\n",
    "        sum_real = sum_real + real_dist[0][1]\n",
    "        \n",
    "    hop = sum_unf / (sum_real + sum_unf) \n",
    "    \n",
    "    if np.isnan(hop):\n",
    "        hop = 0\n",
    "        \n",
    "    return hop\n",
    "    \n",
    "    "
   ]
  },
  {
   "cell_type": "markdown",
   "metadata": {},
   "source": [
    "## Clustering Performance after clustering"
   ]
  },
  {
   "cell_type": "code",
   "execution_count": null,
   "metadata": {},
   "outputs": [],
   "source": [
    "from sklearn.metrics import davies_bouldin_score as DB_score\n",
    "from sklearn.metrics import silhouette_score as S_score"
   ]
  },
  {
   "cell_type": "code",
   "execution_count": null,
   "metadata": {},
   "outputs": [],
   "source": [
    "class cluster_evaluation():\n",
    "    \n",
    "    def Davies_Bouldin(data, labels):\n",
    "        return DB_score(data, labels)\n",
    "    \n",
    "    def Silhouette(data, labels):\n",
    "        return S_score(data, labels, metric='euclidean') "
   ]
  }
 ],
 "metadata": {
  "kernelspec": {
   "display_name": "Python 3",
   "language": "python",
   "name": "python3"
  },
  "language_info": {
   "codemirror_mode": {
    "name": "ipython",
    "version": 3
   },
   "file_extension": ".py",
   "mimetype": "text/x-python",
   "name": "python",
   "nbconvert_exporter": "python",
   "pygments_lexer": "ipython3",
   "version": "3.8.3"
  }
 },
 "nbformat": 4,
 "nbformat_minor": 4
}
